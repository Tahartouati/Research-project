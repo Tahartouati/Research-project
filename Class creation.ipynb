{
 "cells": [
  {
   "cell_type": "code",
   "execution_count": 1,
   "metadata": {},
   "outputs": [],
   "source": [
    "import pandas as pd\n",
    "import numpy as np\n",
    "import xport as xp"
   ]
  },
  {
   "cell_type": "code",
   "execution_count": 2,
   "metadata": {},
   "outputs": [],
   "source": [
    "df = pd.read_csv('Data/Accelerometer.csv')"
   ]
  },
  {
   "cell_type": "code",
   "execution_count": 3,
   "metadata": {},
   "outputs": [],
   "source": [
    "df.replace(to_replace = np.nan, value = 0, inplace = True)"
   ]
  },
  {
   "cell_type": "code",
   "execution_count": 4,
   "metadata": {},
   "outputs": [],
   "source": [
    "demo = pd.read_csv('dataset/demo.csv')"
   ]
  },
  {
   "cell_type": "code",
   "execution_count": 5,
   "metadata": {},
   "outputs": [
    {
     "data": {
      "text/html": [
       "<div>\n",
       "<style scoped>\n",
       "    .dataframe tbody tr th:only-of-type {\n",
       "        vertical-align: middle;\n",
       "    }\n",
       "\n",
       "    .dataframe tbody tr th {\n",
       "        vertical-align: top;\n",
       "    }\n",
       "\n",
       "    .dataframe thead th {\n",
       "        text-align: right;\n",
       "    }\n",
       "</style>\n",
       "<table border=\"1\" class=\"dataframe\">\n",
       "  <thead>\n",
       "    <tr style=\"text-align: right;\">\n",
       "      <th></th>\n",
       "      <th>SEQN</th>\n",
       "      <th>intense</th>\n",
       "      <th>light</th>\n",
       "      <th>moderate</th>\n",
       "      <th>sedentary</th>\n",
       "    </tr>\n",
       "  </thead>\n",
       "  <tbody>\n",
       "    <tr>\n",
       "      <th>0</th>\n",
       "      <td>21005.0</td>\n",
       "      <td>2.0</td>\n",
       "      <td>114.571429</td>\n",
       "      <td>47.166667</td>\n",
       "      <td>804.428571</td>\n",
       "    </tr>\n",
       "    <tr>\n",
       "      <th>1</th>\n",
       "      <td>21006.0</td>\n",
       "      <td>2.0</td>\n",
       "      <td>189.142857</td>\n",
       "      <td>8.714286</td>\n",
       "      <td>761.857143</td>\n",
       "    </tr>\n",
       "    <tr>\n",
       "      <th>2</th>\n",
       "      <td>21007.0</td>\n",
       "      <td>2.4</td>\n",
       "      <td>355.285714</td>\n",
       "      <td>34.142857</td>\n",
       "      <td>568.857143</td>\n",
       "    </tr>\n",
       "    <tr>\n",
       "      <th>3</th>\n",
       "      <td>21008.0</td>\n",
       "      <td>6.2</td>\n",
       "      <td>147.714286</td>\n",
       "      <td>40.400000</td>\n",
       "      <td>779.000000</td>\n",
       "    </tr>\n",
       "    <tr>\n",
       "      <th>4</th>\n",
       "      <td>21009.0</td>\n",
       "      <td>1.0</td>\n",
       "      <td>333.571429</td>\n",
       "      <td>44.428571</td>\n",
       "      <td>581.714286</td>\n",
       "    </tr>\n",
       "  </tbody>\n",
       "</table>\n",
       "</div>"
      ],
      "text/plain": [
       "      SEQN  intense       light   moderate   sedentary\n",
       "0  21005.0      2.0  114.571429  47.166667  804.428571\n",
       "1  21006.0      2.0  189.142857   8.714286  761.857143\n",
       "2  21007.0      2.4  355.285714  34.142857  568.857143\n",
       "3  21008.0      6.2  147.714286  40.400000  779.000000\n",
       "4  21009.0      1.0  333.571429  44.428571  581.714286"
      ]
     },
     "execution_count": 5,
     "metadata": {},
     "output_type": "execute_result"
    }
   ],
   "source": [
    "df.head()"
   ]
  },
  {
   "cell_type": "code",
   "execution_count": 6,
   "metadata": {},
   "outputs": [
    {
     "data": {
      "text/html": [
       "<div>\n",
       "<style scoped>\n",
       "    .dataframe tbody tr th:only-of-type {\n",
       "        vertical-align: middle;\n",
       "    }\n",
       "\n",
       "    .dataframe tbody tr th {\n",
       "        vertical-align: top;\n",
       "    }\n",
       "\n",
       "    .dataframe thead th {\n",
       "        text-align: right;\n",
       "    }\n",
       "</style>\n",
       "<table border=\"1\" class=\"dataframe\">\n",
       "  <thead>\n",
       "    <tr style=\"text-align: right;\">\n",
       "      <th></th>\n",
       "      <th>SEQN</th>\n",
       "      <th>intense</th>\n",
       "      <th>light</th>\n",
       "      <th>moderate</th>\n",
       "      <th>sedentary</th>\n",
       "    </tr>\n",
       "  </thead>\n",
       "  <tbody>\n",
       "    <tr>\n",
       "      <th>0</th>\n",
       "      <td>21005.0</td>\n",
       "      <td>2.0</td>\n",
       "      <td>114.571429</td>\n",
       "      <td>47.166667</td>\n",
       "      <td>804.428571</td>\n",
       "    </tr>\n",
       "    <tr>\n",
       "      <th>1</th>\n",
       "      <td>21006.0</td>\n",
       "      <td>2.0</td>\n",
       "      <td>189.142857</td>\n",
       "      <td>8.714286</td>\n",
       "      <td>761.857143</td>\n",
       "    </tr>\n",
       "    <tr>\n",
       "      <th>2</th>\n",
       "      <td>21007.0</td>\n",
       "      <td>2.4</td>\n",
       "      <td>355.285714</td>\n",
       "      <td>34.142857</td>\n",
       "      <td>568.857143</td>\n",
       "    </tr>\n",
       "    <tr>\n",
       "      <th>3</th>\n",
       "      <td>21008.0</td>\n",
       "      <td>6.2</td>\n",
       "      <td>147.714286</td>\n",
       "      <td>40.400000</td>\n",
       "      <td>779.000000</td>\n",
       "    </tr>\n",
       "    <tr>\n",
       "      <th>4</th>\n",
       "      <td>21009.0</td>\n",
       "      <td>1.0</td>\n",
       "      <td>333.571429</td>\n",
       "      <td>44.428571</td>\n",
       "      <td>581.714286</td>\n",
       "    </tr>\n",
       "  </tbody>\n",
       "</table>\n",
       "</div>"
      ],
      "text/plain": [
       "      SEQN  intense       light   moderate   sedentary\n",
       "0  21005.0      2.0  114.571429  47.166667  804.428571\n",
       "1  21006.0      2.0  189.142857   8.714286  761.857143\n",
       "2  21007.0      2.4  355.285714  34.142857  568.857143\n",
       "3  21008.0      6.2  147.714286  40.400000  779.000000\n",
       "4  21009.0      1.0  333.571429  44.428571  581.714286"
      ]
     },
     "execution_count": 6,
     "metadata": {},
     "output_type": "execute_result"
    }
   ],
   "source": [
    "df.head()"
   ]
  },
  {
   "cell_type": "code",
   "execution_count": 7,
   "metadata": {},
   "outputs": [
    {
     "data": {
      "text/html": [
       "<div>\n",
       "<style scoped>\n",
       "    .dataframe tbody tr th:only-of-type {\n",
       "        vertical-align: middle;\n",
       "    }\n",
       "\n",
       "    .dataframe tbody tr th {\n",
       "        vertical-align: top;\n",
       "    }\n",
       "\n",
       "    .dataframe thead th {\n",
       "        text-align: right;\n",
       "    }\n",
       "</style>\n",
       "<table border=\"1\" class=\"dataframe\">\n",
       "  <thead>\n",
       "    <tr style=\"text-align: right;\">\n",
       "      <th></th>\n",
       "      <th>SEQN</th>\n",
       "      <th>intense</th>\n",
       "      <th>light</th>\n",
       "      <th>moderate</th>\n",
       "      <th>sedentary</th>\n",
       "    </tr>\n",
       "  </thead>\n",
       "  <tbody>\n",
       "  </tbody>\n",
       "</table>\n",
       "</div>"
      ],
      "text/plain": [
       "Empty DataFrame\n",
       "Columns: [SEQN, intense, light, moderate, sedentary]\n",
       "Index: []"
      ]
     },
     "execution_count": 7,
     "metadata": {},
     "output_type": "execute_result"
    }
   ],
   "source": [
    "df[df['light'].isnull()]"
   ]
  },
  {
   "cell_type": "code",
   "execution_count": 11,
   "metadata": {},
   "outputs": [],
   "source": [
    "class_healthy = []\n",
    "for index, row in df.iterrows():\n",
    "    if ( row['moderate'] * 7 >= 150) | ((row['intense']*7 )>= 75):\n",
    "        class_healthy.append(1)\n",
    "    else:\n",
    "        class_healthy.append(0)\n"
   ]
  },
  {
   "cell_type": "code",
   "execution_count": 12,
   "metadata": {},
   "outputs": [],
   "source": [
    "df['active'] = class_healthy"
   ]
  },
  {
   "cell_type": "code",
   "execution_count": 13,
   "metadata": {},
   "outputs": [
    {
     "data": {
      "text/plain": [
       "0.5479129923574368"
      ]
     },
     "execution_count": 13,
     "metadata": {},
     "output_type": "execute_result"
    }
   ],
   "source": [
    "df[df['active'] == 0].shape[0] / 6804"
   ]
  },
  {
   "cell_type": "code",
   "execution_count": 14,
   "metadata": {},
   "outputs": [],
   "source": [
    "df.to_csv('dataset/accelerometer_classified_final_modified.csv')"
   ]
  },
  {
   "cell_type": "code",
   "execution_count": 15,
   "metadata": {},
   "outputs": [],
   "source": [
    "demo.drop(['Unnamed: 0'],axis=1,inplace = True)"
   ]
  },
  {
   "cell_type": "code",
   "execution_count": 16,
   "metadata": {},
   "outputs": [],
   "source": [
    "df1 = pd.merge(df,demo,on='SEQN')"
   ]
  },
  {
   "cell_type": "code",
   "execution_count": 17,
   "metadata": {},
   "outputs": [
    {
     "data": {
      "text/plain": [
       "(3833, 18)"
      ]
     },
     "execution_count": 17,
     "metadata": {},
     "output_type": "execute_result"
    }
   ],
   "source": [
    "df1.shape"
   ]
  },
  {
   "cell_type": "markdown",
   "metadata": {},
   "source": [
    "### Correlation with demographic data"
   ]
  },
  {
   "cell_type": "code",
   "execution_count": 18,
   "metadata": {},
   "outputs": [
    {
     "data": {
      "text/html": [
       "<div>\n",
       "<style scoped>\n",
       "    .dataframe tbody tr th:only-of-type {\n",
       "        vertical-align: middle;\n",
       "    }\n",
       "\n",
       "    .dataframe tbody tr th {\n",
       "        vertical-align: top;\n",
       "    }\n",
       "\n",
       "    .dataframe thead th {\n",
       "        text-align: right;\n",
       "    }\n",
       "</style>\n",
       "<table border=\"1\" class=\"dataframe\">\n",
       "  <thead>\n",
       "    <tr style=\"text-align: right;\">\n",
       "      <th></th>\n",
       "      <th>SEQN</th>\n",
       "      <th>intense</th>\n",
       "      <th>light</th>\n",
       "      <th>moderate</th>\n",
       "      <th>sedentary</th>\n",
       "      <th>active</th>\n",
       "      <th>RIDAGEYR</th>\n",
       "      <th>DMDEDUC2</th>\n",
       "      <th>DMDHHSIZ</th>\n",
       "      <th>INDFMPIR</th>\n",
       "      <th>gender_1.0</th>\n",
       "      <th>gender_2.0</th>\n",
       "      <th>marital_1.0</th>\n",
       "      <th>marital_2.0</th>\n",
       "      <th>marital_3.0</th>\n",
       "      <th>marital_4.0</th>\n",
       "      <th>marital_5.0</th>\n",
       "      <th>marital_6.0</th>\n",
       "    </tr>\n",
       "  </thead>\n",
       "  <tbody>\n",
       "    <tr>\n",
       "      <th>active</th>\n",
       "      <td>0.009579</td>\n",
       "      <td>0.33236</td>\n",
       "      <td>0.270323</td>\n",
       "      <td>0.764993</td>\n",
       "      <td>-0.347698</td>\n",
       "      <td>1.0</td>\n",
       "      <td>-0.284328</td>\n",
       "      <td>0.114454</td>\n",
       "      <td>0.138242</td>\n",
       "      <td>0.096581</td>\n",
       "      <td>0.241892</td>\n",
       "      <td>-0.241892</td>\n",
       "      <td>0.009826</td>\n",
       "      <td>-0.161284</td>\n",
       "      <td>-0.04063</td>\n",
       "      <td>-0.015815</td>\n",
       "      <td>0.152122</td>\n",
       "      <td>0.009938</td>\n",
       "    </tr>\n",
       "  </tbody>\n",
       "</table>\n",
       "</div>"
      ],
      "text/plain": [
       "            SEQN  intense     light  moderate  sedentary  active  RIDAGEYR  \\\n",
       "active  0.009579  0.33236  0.270323  0.764993  -0.347698     1.0 -0.284328   \n",
       "\n",
       "        DMDEDUC2  DMDHHSIZ  INDFMPIR  gender_1.0  gender_2.0  marital_1.0  \\\n",
       "active  0.114454  0.138242  0.096581    0.241892   -0.241892     0.009826   \n",
       "\n",
       "        marital_2.0  marital_3.0  marital_4.0  marital_5.0  marital_6.0  \n",
       "active    -0.161284     -0.04063    -0.015815     0.152122     0.009938  "
      ]
     },
     "execution_count": 18,
     "metadata": {},
     "output_type": "execute_result"
    }
   ],
   "source": [
    "df1.corr().iloc[[5]]"
   ]
  },
  {
   "cell_type": "markdown",
   "metadata": {},
   "source": [
    "Education level has a positive correlation but it is decreasing the dataset size considerably ...3000"
   ]
  },
  {
   "cell_type": "markdown",
   "metadata": {},
   "source": [
    "### Correlation with alcohol consumption per year"
   ]
  },
  {
   "cell_type": "code",
   "execution_count": 19,
   "metadata": {},
   "outputs": [],
   "source": [
    "alq = pd.read_csv('dataset/alq.csv')"
   ]
  },
  {
   "cell_type": "code",
   "execution_count": 20,
   "metadata": {},
   "outputs": [],
   "source": [
    "df2 = pd.merge(df,alq,on='SEQN')"
   ]
  },
  {
   "cell_type": "code",
   "execution_count": 21,
   "metadata": {},
   "outputs": [
    {
     "data": {
      "text/html": [
       "<div>\n",
       "<style scoped>\n",
       "    .dataframe tbody tr th:only-of-type {\n",
       "        vertical-align: middle;\n",
       "    }\n",
       "\n",
       "    .dataframe tbody tr th {\n",
       "        vertical-align: top;\n",
       "    }\n",
       "\n",
       "    .dataframe thead th {\n",
       "        text-align: right;\n",
       "    }\n",
       "</style>\n",
       "<table border=\"1\" class=\"dataframe\">\n",
       "  <thead>\n",
       "    <tr style=\"text-align: right;\">\n",
       "      <th></th>\n",
       "      <th>SEQN</th>\n",
       "      <th>intense</th>\n",
       "      <th>light</th>\n",
       "      <th>moderate</th>\n",
       "      <th>sedentary</th>\n",
       "      <th>active</th>\n",
       "      <th>Unnamed: 0</th>\n",
       "      <th>ALQ_Year</th>\n",
       "    </tr>\n",
       "  </thead>\n",
       "  <tbody>\n",
       "    <tr>\n",
       "      <th>active</th>\n",
       "      <td>0.011026</td>\n",
       "      <td>0.32748</td>\n",
       "      <td>0.254063</td>\n",
       "      <td>0.744786</td>\n",
       "      <td>-0.338041</td>\n",
       "      <td>1.0</td>\n",
       "      <td>0.011277</td>\n",
       "      <td>0.021285</td>\n",
       "    </tr>\n",
       "  </tbody>\n",
       "</table>\n",
       "</div>"
      ],
      "text/plain": [
       "            SEQN  intense     light  moderate  sedentary  active  Unnamed: 0  \\\n",
       "active  0.011026  0.32748  0.254063  0.744786  -0.338041     1.0    0.011277   \n",
       "\n",
       "        ALQ_Year  \n",
       "active  0.021285  "
      ]
     },
     "execution_count": 21,
     "metadata": {},
     "output_type": "execute_result"
    }
   ],
   "source": [
    "df2.corr().iloc[[5]]"
   ]
  },
  {
   "cell_type": "code",
   "execution_count": 22,
   "metadata": {},
   "outputs": [],
   "source": [
    "df2[['ALQ_Year']] = df2[['ALQ_Year']]/52"
   ]
  },
  {
   "cell_type": "code",
   "execution_count": 23,
   "metadata": {},
   "outputs": [
    {
     "data": {
      "text/html": [
       "<div>\n",
       "<style scoped>\n",
       "    .dataframe tbody tr th:only-of-type {\n",
       "        vertical-align: middle;\n",
       "    }\n",
       "\n",
       "    .dataframe tbody tr th {\n",
       "        vertical-align: top;\n",
       "    }\n",
       "\n",
       "    .dataframe thead th {\n",
       "        text-align: right;\n",
       "    }\n",
       "</style>\n",
       "<table border=\"1\" class=\"dataframe\">\n",
       "  <thead>\n",
       "    <tr style=\"text-align: right;\">\n",
       "      <th></th>\n",
       "      <th>SEQN</th>\n",
       "      <th>intense</th>\n",
       "      <th>light</th>\n",
       "      <th>moderate</th>\n",
       "      <th>sedentary</th>\n",
       "      <th>active</th>\n",
       "      <th>Unnamed: 0</th>\n",
       "      <th>ALQ_Year</th>\n",
       "    </tr>\n",
       "  </thead>\n",
       "  <tbody>\n",
       "    <tr>\n",
       "      <th>active</th>\n",
       "      <td>0.011026</td>\n",
       "      <td>0.32748</td>\n",
       "      <td>0.254063</td>\n",
       "      <td>0.744786</td>\n",
       "      <td>-0.338041</td>\n",
       "      <td>1.0</td>\n",
       "      <td>0.011277</td>\n",
       "      <td>0.021285</td>\n",
       "    </tr>\n",
       "  </tbody>\n",
       "</table>\n",
       "</div>"
      ],
      "text/plain": [
       "            SEQN  intense     light  moderate  sedentary  active  Unnamed: 0  \\\n",
       "active  0.011026  0.32748  0.254063  0.744786  -0.338041     1.0    0.011277   \n",
       "\n",
       "        ALQ_Year  \n",
       "active  0.021285  "
      ]
     },
     "execution_count": 23,
     "metadata": {},
     "output_type": "execute_result"
    }
   ],
   "source": [
    "df2.corr().iloc[[5]]"
   ]
  },
  {
   "cell_type": "markdown",
   "metadata": {},
   "source": [
    "### Correlation with weight and body measurement:"
   ]
  },
  {
   "cell_type": "code",
   "execution_count": 24,
   "metadata": {},
   "outputs": [],
   "source": [
    "bmx = pd.read_csv('dataset/bmx.csv')"
   ]
  },
  {
   "cell_type": "code",
   "execution_count": 25,
   "metadata": {},
   "outputs": [
    {
     "data": {
      "text/html": [
       "<div>\n",
       "<style scoped>\n",
       "    .dataframe tbody tr th:only-of-type {\n",
       "        vertical-align: middle;\n",
       "    }\n",
       "\n",
       "    .dataframe tbody tr th {\n",
       "        vertical-align: top;\n",
       "    }\n",
       "\n",
       "    .dataframe thead th {\n",
       "        text-align: right;\n",
       "    }\n",
       "</style>\n",
       "<table border=\"1\" class=\"dataframe\">\n",
       "  <thead>\n",
       "    <tr style=\"text-align: right;\">\n",
       "      <th></th>\n",
       "      <th>SEQN</th>\n",
       "      <th>intense</th>\n",
       "      <th>light</th>\n",
       "      <th>moderate</th>\n",
       "      <th>sedentary</th>\n",
       "      <th>active</th>\n",
       "      <th>Unnamed: 0</th>\n",
       "      <th>BMXWT</th>\n",
       "      <th>BMXBMI</th>\n",
       "    </tr>\n",
       "  </thead>\n",
       "  <tbody>\n",
       "    <tr>\n",
       "      <th>active</th>\n",
       "      <td>-0.005194</td>\n",
       "      <td>0.411777</td>\n",
       "      <td>0.296036</td>\n",
       "      <td>0.75321</td>\n",
       "      <td>-0.399092</td>\n",
       "      <td>1.0</td>\n",
       "      <td>-0.005162</td>\n",
       "      <td>-0.300524</td>\n",
       "      <td>-0.32585</td>\n",
       "    </tr>\n",
       "  </tbody>\n",
       "</table>\n",
       "</div>"
      ],
      "text/plain": [
       "            SEQN   intense     light  moderate  sedentary  active  Unnamed: 0  \\\n",
       "active -0.005194  0.411777  0.296036   0.75321  -0.399092     1.0   -0.005162   \n",
       "\n",
       "           BMXWT   BMXBMI  \n",
       "active -0.300524 -0.32585  "
      ]
     },
     "execution_count": 25,
     "metadata": {},
     "output_type": "execute_result"
    }
   ],
   "source": [
    "df3 = pd.merge(df,bmx,on='SEQN')\n",
    "df3.corr().iloc[[5]]"
   ]
  },
  {
   "cell_type": "code",
   "execution_count": 26,
   "metadata": {},
   "outputs": [
    {
     "data": {
      "text/plain": [
       "(6735, 9)"
      ]
     },
     "execution_count": 26,
     "metadata": {},
     "output_type": "execute_result"
    }
   ],
   "source": [
    "df3.shape"
   ]
  },
  {
   "cell_type": "markdown",
   "metadata": {},
   "source": [
    "### Correlation with Dietary Supplement Use:"
   ]
  },
  {
   "cell_type": "code",
   "execution_count": 27,
   "metadata": {},
   "outputs": [
    {
     "data": {
      "text/html": [
       "<div>\n",
       "<style scoped>\n",
       "    .dataframe tbody tr th:only-of-type {\n",
       "        vertical-align: middle;\n",
       "    }\n",
       "\n",
       "    .dataframe tbody tr th {\n",
       "        vertical-align: top;\n",
       "    }\n",
       "\n",
       "    .dataframe thead th {\n",
       "        text-align: right;\n",
       "    }\n",
       "</style>\n",
       "<table border=\"1\" class=\"dataframe\">\n",
       "  <thead>\n",
       "    <tr style=\"text-align: right;\">\n",
       "      <th></th>\n",
       "      <th>SEQN</th>\n",
       "      <th>intense</th>\n",
       "      <th>light</th>\n",
       "      <th>moderate</th>\n",
       "      <th>sedentary</th>\n",
       "      <th>active</th>\n",
       "      <th>Unnamed: 0</th>\n",
       "      <th>DSD010</th>\n",
       "      <th>DSD010AN</th>\n",
       "    </tr>\n",
       "  </thead>\n",
       "  <tbody>\n",
       "    <tr>\n",
       "      <th>active</th>\n",
       "      <td>-0.005868</td>\n",
       "      <td>0.411706</td>\n",
       "      <td>0.297135</td>\n",
       "      <td>0.753733</td>\n",
       "      <td>-0.400126</td>\n",
       "      <td>1.0</td>\n",
       "      <td>-0.005868</td>\n",
       "      <td>-0.145443</td>\n",
       "      <td>-0.095344</td>\n",
       "    </tr>\n",
       "  </tbody>\n",
       "</table>\n",
       "</div>"
      ],
      "text/plain": [
       "            SEQN   intense     light  moderate  sedentary  active  Unnamed: 0  \\\n",
       "active -0.005868  0.411706  0.297135  0.753733  -0.400126     1.0   -0.005868   \n",
       "\n",
       "          DSD010  DSD010AN  \n",
       "active -0.145443 -0.095344  "
      ]
     },
     "execution_count": 27,
     "metadata": {},
     "output_type": "execute_result"
    }
   ],
   "source": [
    "dsq1 = pd.read_csv('dataset/DSQ1.csv')\n",
    "df4 = pd.merge(df,dsq1,on='SEQN')\n",
    "df4.corr().iloc[[5]]"
   ]
  },
  {
   "cell_type": "code",
   "execution_count": 28,
   "metadata": {},
   "outputs": [
    {
     "data": {
      "text/plain": [
       "(6797, 9)"
      ]
     },
     "execution_count": 28,
     "metadata": {},
     "output_type": "execute_result"
    }
   ],
   "source": [
    "df4.shape"
   ]
  },
  {
   "cell_type": "markdown",
   "metadata": {},
   "source": [
    "### Correlation with drug use"
   ]
  },
  {
   "cell_type": "code",
   "execution_count": 29,
   "metadata": {},
   "outputs": [
    {
     "data": {
      "text/html": [
       "<div>\n",
       "<style scoped>\n",
       "    .dataframe tbody tr th:only-of-type {\n",
       "        vertical-align: middle;\n",
       "    }\n",
       "\n",
       "    .dataframe tbody tr th {\n",
       "        vertical-align: top;\n",
       "    }\n",
       "\n",
       "    .dataframe thead th {\n",
       "        text-align: right;\n",
       "    }\n",
       "</style>\n",
       "<table border=\"1\" class=\"dataframe\">\n",
       "  <thead>\n",
       "    <tr style=\"text-align: right;\">\n",
       "      <th></th>\n",
       "      <th>SEQN</th>\n",
       "      <th>intense</th>\n",
       "      <th>light</th>\n",
       "      <th>moderate</th>\n",
       "      <th>sedentary</th>\n",
       "      <th>active</th>\n",
       "      <th>Unnamed: 0</th>\n",
       "      <th>DUQ100</th>\n",
       "    </tr>\n",
       "  </thead>\n",
       "  <tbody>\n",
       "    <tr>\n",
       "      <th>active</th>\n",
       "      <td>0.007985</td>\n",
       "      <td>0.314361</td>\n",
       "      <td>0.272791</td>\n",
       "      <td>0.725342</td>\n",
       "      <td>-0.357654</td>\n",
       "      <td>1.0</td>\n",
       "      <td>0.008405</td>\n",
       "      <td>0.046213</td>\n",
       "    </tr>\n",
       "  </tbody>\n",
       "</table>\n",
       "</div>"
      ],
      "text/plain": [
       "            SEQN   intense     light  moderate  sedentary  active  Unnamed: 0  \\\n",
       "active  0.007985  0.314361  0.272791  0.725342  -0.357654     1.0    0.008405   \n",
       "\n",
       "          DUQ100  \n",
       "active  0.046213  "
      ]
     },
     "execution_count": 29,
     "metadata": {},
     "output_type": "execute_result"
    }
   ],
   "source": [
    "DUQ = pd.read_csv('dataset/DUQ.csv')\n",
    "df5 = pd.merge(df,DUQ,on='SEQN')\n",
    "df5.corr().iloc[[5]]"
   ]
  },
  {
   "cell_type": "code",
   "execution_count": 30,
   "metadata": {},
   "outputs": [
    {
     "data": {
      "text/plain": [
       "(2309, 8)"
      ]
     },
     "execution_count": 30,
     "metadata": {},
     "output_type": "execute_result"
    }
   ],
   "source": [
    "df5.shape"
   ]
  },
  {
   "cell_type": "markdown",
   "metadata": {},
   "source": [
    "### correlation with household smoking:"
   ]
  },
  {
   "cell_type": "code",
   "execution_count": 31,
   "metadata": {},
   "outputs": [
    {
     "data": {
      "text/html": [
       "<div>\n",
       "<style scoped>\n",
       "    .dataframe tbody tr th:only-of-type {\n",
       "        vertical-align: middle;\n",
       "    }\n",
       "\n",
       "    .dataframe tbody tr th {\n",
       "        vertical-align: top;\n",
       "    }\n",
       "\n",
       "    .dataframe thead th {\n",
       "        text-align: right;\n",
       "    }\n",
       "</style>\n",
       "<table border=\"1\" class=\"dataframe\">\n",
       "  <thead>\n",
       "    <tr style=\"text-align: right;\">\n",
       "      <th></th>\n",
       "      <th>SEQN</th>\n",
       "      <th>intense</th>\n",
       "      <th>light</th>\n",
       "      <th>moderate</th>\n",
       "      <th>sedentary</th>\n",
       "      <th>active</th>\n",
       "      <th>Unnamed: 0</th>\n",
       "      <th>SMD415</th>\n",
       "    </tr>\n",
       "  </thead>\n",
       "  <tbody>\n",
       "    <tr>\n",
       "      <th>active</th>\n",
       "      <td>-0.005662</td>\n",
       "      <td>0.411766</td>\n",
       "      <td>0.297724</td>\n",
       "      <td>0.753718</td>\n",
       "      <td>-0.400332</td>\n",
       "      <td>1.0</td>\n",
       "      <td>-0.005662</td>\n",
       "      <td>-0.02798</td>\n",
       "    </tr>\n",
       "  </tbody>\n",
       "</table>\n",
       "</div>"
      ],
      "text/plain": [
       "            SEQN   intense     light  moderate  sedentary  active  Unnamed: 0  \\\n",
       "active -0.005662  0.411766  0.297724  0.753718  -0.400332     1.0   -0.005662   \n",
       "\n",
       "         SMD415  \n",
       "active -0.02798  "
      ]
     },
     "execution_count": 31,
     "metadata": {},
     "output_type": "execute_result"
    }
   ],
   "source": [
    "FAMSMQ = pd.read_csv('dataset/FAMSMQ.csv')\n",
    "df6 = pd.merge(df,FAMSMQ,on='SEQN')\n",
    "df6.corr().iloc[[5]]"
   ]
  },
  {
   "cell_type": "markdown",
   "metadata": {},
   "source": [
    "### correlation with general health condition:"
   ]
  },
  {
   "cell_type": "code",
   "execution_count": 32,
   "metadata": {},
   "outputs": [
    {
     "data": {
      "text/html": [
       "<div>\n",
       "<style scoped>\n",
       "    .dataframe tbody tr th:only-of-type {\n",
       "        vertical-align: middle;\n",
       "    }\n",
       "\n",
       "    .dataframe tbody tr th {\n",
       "        vertical-align: top;\n",
       "    }\n",
       "\n",
       "    .dataframe thead th {\n",
       "        text-align: right;\n",
       "    }\n",
       "</style>\n",
       "<table border=\"1\" class=\"dataframe\">\n",
       "  <thead>\n",
       "    <tr style=\"text-align: right;\">\n",
       "      <th></th>\n",
       "      <th>HUQ010</th>\n",
       "    </tr>\n",
       "  </thead>\n",
       "  <tbody>\n",
       "    <tr>\n",
       "      <th>active</th>\n",
       "      <td>-0.234648</td>\n",
       "    </tr>\n",
       "  </tbody>\n",
       "</table>\n",
       "</div>"
      ],
      "text/plain": [
       "          HUQ010\n",
       "active -0.234648"
      ]
     },
     "execution_count": 32,
     "metadata": {},
     "output_type": "execute_result"
    }
   ],
   "source": [
    "HUQ = pd.read_csv('dataset/HUQ.csv')\n",
    "df7 = pd.merge(df,HUQ,on='SEQN')\n",
    "df7.corr().iloc[[5]][['HUQ010']]"
   ]
  },
  {
   "cell_type": "markdown",
   "metadata": {},
   "source": [
    "### Correlation with Immunization "
   ]
  },
  {
   "cell_type": "code",
   "execution_count": 33,
   "metadata": {},
   "outputs": [
    {
     "data": {
      "text/html": [
       "<div>\n",
       "<style scoped>\n",
       "    .dataframe tbody tr th:only-of-type {\n",
       "        vertical-align: middle;\n",
       "    }\n",
       "\n",
       "    .dataframe tbody tr th {\n",
       "        vertical-align: top;\n",
       "    }\n",
       "\n",
       "    .dataframe thead th {\n",
       "        text-align: right;\n",
       "    }\n",
       "</style>\n",
       "<table border=\"1\" class=\"dataframe\">\n",
       "  <thead>\n",
       "    <tr style=\"text-align: right;\">\n",
       "      <th></th>\n",
       "      <th>IMD010</th>\n",
       "      <th>IMQ020</th>\n",
       "    </tr>\n",
       "  </thead>\n",
       "  <tbody>\n",
       "    <tr>\n",
       "      <th>active</th>\n",
       "      <td>-0.147797</td>\n",
       "      <td>-0.337555</td>\n",
       "    </tr>\n",
       "  </tbody>\n",
       "</table>\n",
       "</div>"
      ],
      "text/plain": [
       "          IMD010    IMQ020\n",
       "active -0.147797 -0.337555"
      ]
     },
     "execution_count": 33,
     "metadata": {},
     "output_type": "execute_result"
    }
   ],
   "source": [
    "imc = pd.read_csv('dataset/imc.csv')\n",
    "df8 = pd.merge(df,imc,on='SEQN')\n",
    "df8.corr().iloc[[5]][['IMD010','IMQ020']]"
   ]
  },
  {
   "cell_type": "code",
   "execution_count": 34,
   "metadata": {},
   "outputs": [
    {
     "data": {
      "text/plain": [
       "(6007, 9)"
      ]
     },
     "execution_count": 34,
     "metadata": {},
     "output_type": "execute_result"
    }
   ],
   "source": [
    "df8.shape"
   ]
  },
  {
   "cell_type": "markdown",
   "metadata": {},
   "source": [
    "### Correlation with Sedentary activities:"
   ]
  },
  {
   "cell_type": "code",
   "execution_count": 35,
   "metadata": {},
   "outputs": [
    {
     "data": {
      "text/html": [
       "<div>\n",
       "<style scoped>\n",
       "    .dataframe tbody tr th:only-of-type {\n",
       "        vertical-align: middle;\n",
       "    }\n",
       "\n",
       "    .dataframe tbody tr th {\n",
       "        vertical-align: top;\n",
       "    }\n",
       "\n",
       "    .dataframe thead th {\n",
       "        text-align: right;\n",
       "    }\n",
       "</style>\n",
       "<table border=\"1\" class=\"dataframe\">\n",
       "  <thead>\n",
       "    <tr style=\"text-align: right;\">\n",
       "      <th></th>\n",
       "      <th>PAD590</th>\n",
       "      <th>PAD600</th>\n",
       "    </tr>\n",
       "  </thead>\n",
       "  <tbody>\n",
       "    <tr>\n",
       "      <th>active</th>\n",
       "      <td>-0.090956</td>\n",
       "      <td>0.11803</td>\n",
       "    </tr>\n",
       "  </tbody>\n",
       "</table>\n",
       "</div>"
      ],
      "text/plain": [
       "          PAD590   PAD600\n",
       "active -0.090956  0.11803"
      ]
     },
     "execution_count": 35,
     "metadata": {},
     "output_type": "execute_result"
    }
   ],
   "source": [
    "PAQ = pd.read_csv('dataset/PAQ.csv')\n",
    "df9 = pd.merge(df,PAQ,on='SEQN')\n",
    "df9.corr().iloc[[5]][['PAD590','PAD600']]"
   ]
  },
  {
   "cell_type": "code",
   "execution_count": 36,
   "metadata": {},
   "outputs": [
    {
     "data": {
      "text/plain": [
       "(6741, 9)"
      ]
     },
     "execution_count": 36,
     "metadata": {},
     "output_type": "execute_result"
    }
   ],
   "source": [
    "df9.shape"
   ]
  },
  {
   "cell_type": "markdown",
   "metadata": {},
   "source": [
    "### Correlation with drug(medecine) use (Analgesic Pain Relievers)"
   ]
  },
  {
   "cell_type": "code",
   "execution_count": 37,
   "metadata": {},
   "outputs": [
    {
     "data": {
      "text/html": [
       "<div>\n",
       "<style scoped>\n",
       "    .dataframe tbody tr th:only-of-type {\n",
       "        vertical-align: middle;\n",
       "    }\n",
       "\n",
       "    .dataframe tbody tr th {\n",
       "        vertical-align: top;\n",
       "    }\n",
       "\n",
       "    .dataframe thead th {\n",
       "        text-align: right;\n",
       "    }\n",
       "</style>\n",
       "<table border=\"1\" class=\"dataframe\">\n",
       "  <thead>\n",
       "    <tr style=\"text-align: right;\">\n",
       "      <th></th>\n",
       "      <th>RXD300</th>\n",
       "    </tr>\n",
       "  </thead>\n",
       "  <tbody>\n",
       "    <tr>\n",
       "      <th>active</th>\n",
       "      <td>-0.122683</td>\n",
       "    </tr>\n",
       "  </tbody>\n",
       "</table>\n",
       "</div>"
      ],
      "text/plain": [
       "          RXD300\n",
       "active -0.122683"
      ]
     },
     "execution_count": 37,
     "metadata": {},
     "output_type": "execute_result"
    }
   ],
   "source": [
    "RXQANA = pd.read_csv('dataset/RXQANA.csv')\n",
    "df10 = pd.merge(df,RXQANA,on='SEQN')\n",
    "df10.corr().iloc[[5]][['RXD300']]"
   ]
  },
  {
   "cell_type": "markdown",
   "metadata": {},
   "source": [
    "### Correlation with smoking:"
   ]
  },
  {
   "cell_type": "code",
   "execution_count": 38,
   "metadata": {},
   "outputs": [
    {
     "data": {
      "text/html": [
       "<div>\n",
       "<style scoped>\n",
       "    .dataframe tbody tr th:only-of-type {\n",
       "        vertical-align: middle;\n",
       "    }\n",
       "\n",
       "    .dataframe tbody tr th {\n",
       "        vertical-align: top;\n",
       "    }\n",
       "\n",
       "    .dataframe thead th {\n",
       "        text-align: right;\n",
       "    }\n",
       "</style>\n",
       "<table border=\"1\" class=\"dataframe\">\n",
       "  <thead>\n",
       "    <tr style=\"text-align: right;\">\n",
       "      <th></th>\n",
       "      <th>SMQ020</th>\n",
       "    </tr>\n",
       "  </thead>\n",
       "  <tbody>\n",
       "    <tr>\n",
       "      <th>active</th>\n",
       "      <td>-0.047476</td>\n",
       "    </tr>\n",
       "  </tbody>\n",
       "</table>\n",
       "</div>"
      ],
      "text/plain": [
       "          SMQ020\n",
       "active -0.047476"
      ]
     },
     "execution_count": 38,
     "metadata": {},
     "output_type": "execute_result"
    }
   ],
   "source": [
    "SMQ = pd.read_csv('dataset/SMQ.csv')\n",
    "df11 = pd.merge(df,SMQ,on='SEQN')\n",
    "df11.corr().iloc[[5]][['SMQ020']]"
   ]
  },
  {
   "cell_type": "markdown",
   "metadata": {},
   "source": [
    "### Correlation with SSQ.csv"
   ]
  },
  {
   "cell_type": "code",
   "execution_count": 39,
   "metadata": {},
   "outputs": [
    {
     "data": {
      "text/html": [
       "<div>\n",
       "<style scoped>\n",
       "    .dataframe tbody tr th:only-of-type {\n",
       "        vertical-align: middle;\n",
       "    }\n",
       "\n",
       "    .dataframe tbody tr th {\n",
       "        vertical-align: top;\n",
       "    }\n",
       "\n",
       "    .dataframe thead th {\n",
       "        text-align: right;\n",
       "    }\n",
       "</style>\n",
       "<table border=\"1\" class=\"dataframe\">\n",
       "  <thead>\n",
       "    <tr style=\"text-align: right;\">\n",
       "      <th></th>\n",
       "      <th>SSQ061</th>\n",
       "      <th>SSQ011</th>\n",
       "      <th>SSQ051</th>\n",
       "    </tr>\n",
       "  </thead>\n",
       "  <tbody>\n",
       "    <tr>\n",
       "      <th>active</th>\n",
       "      <td>-0.011892</td>\n",
       "      <td>0.040711</td>\n",
       "      <td>0.022856</td>\n",
       "    </tr>\n",
       "  </tbody>\n",
       "</table>\n",
       "</div>"
      ],
      "text/plain": [
       "          SSQ061    SSQ011    SSQ051\n",
       "active -0.011892  0.040711  0.022856"
      ]
     },
     "execution_count": 39,
     "metadata": {},
     "output_type": "execute_result"
    }
   ],
   "source": [
    "SSQ = pd.read_csv('dataset/SSQ.csv')\n",
    "df12 = pd.merge(df,SSQ,on='SEQN')\n",
    "df12.corr().iloc[[5]][['SSQ061','SSQ011','SSQ051']]"
   ]
  },
  {
   "cell_type": "code",
   "execution_count": null,
   "metadata": {},
   "outputs": [],
   "source": []
  },
  {
   "cell_type": "code",
   "execution_count": null,
   "metadata": {},
   "outputs": [],
   "source": []
  },
  {
   "cell_type": "code",
   "execution_count": null,
   "metadata": {},
   "outputs": [],
   "source": []
  },
  {
   "cell_type": "code",
   "execution_count": null,
   "metadata": {},
   "outputs": [],
   "source": []
  },
  {
   "cell_type": "code",
   "execution_count": null,
   "metadata": {},
   "outputs": [],
   "source": []
  },
  {
   "cell_type": "code",
   "execution_count": null,
   "metadata": {},
   "outputs": [],
   "source": []
  },
  {
   "cell_type": "code",
   "execution_count": null,
   "metadata": {},
   "outputs": [],
   "source": []
  }
 ],
 "metadata": {
  "kernelspec": {
   "display_name": "Python 3",
   "language": "python",
   "name": "python3"
  },
  "language_info": {
   "codemirror_mode": {
    "name": "ipython",
    "version": 3
   },
   "file_extension": ".py",
   "mimetype": "text/x-python",
   "name": "python",
   "nbconvert_exporter": "python",
   "pygments_lexer": "ipython3",
   "version": "3.7.3"
  }
 },
 "nbformat": 4,
 "nbformat_minor": 2
}
