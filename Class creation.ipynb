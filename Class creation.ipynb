{
 "cells": [
  {
   "cell_type": "code",
   "execution_count": 77,
   "metadata": {},
   "outputs": [],
   "source": [
    "import pandas as pd\n",
    "import numpy as np\n",
    "import xport as xp"
   ]
  },
  {
   "cell_type": "code",
   "execution_count": 78,
   "metadata": {},
   "outputs": [],
   "source": [
    "df = pd.read_csv('Data/Accelerometer.csv')"
   ]
  },
  {
   "cell_type": "code",
   "execution_count": 79,
   "metadata": {},
   "outputs": [],
   "source": [
    "df.replace(to_replace = np.nan, value = 0, inplace = True)"
   ]
  },
  {
   "cell_type": "code",
   "execution_count": 81,
   "metadata": {},
   "outputs": [],
   "source": [
    "demo = pd.read_csv('dataset/demo.csv')"
   ]
  },
  {
   "cell_type": "code",
   "execution_count": 82,
   "metadata": {},
   "outputs": [
    {
     "data": {
      "text/html": [
       "<div>\n",
       "<style scoped>\n",
       "    .dataframe tbody tr th:only-of-type {\n",
       "        vertical-align: middle;\n",
       "    }\n",
       "\n",
       "    .dataframe tbody tr th {\n",
       "        vertical-align: top;\n",
       "    }\n",
       "\n",
       "    .dataframe thead th {\n",
       "        text-align: right;\n",
       "    }\n",
       "</style>\n",
       "<table border=\"1\" class=\"dataframe\">\n",
       "  <thead>\n",
       "    <tr style=\"text-align: right;\">\n",
       "      <th></th>\n",
       "      <th>SEQN</th>\n",
       "      <th>intense</th>\n",
       "      <th>light</th>\n",
       "      <th>moderate</th>\n",
       "      <th>sedentary</th>\n",
       "    </tr>\n",
       "  </thead>\n",
       "  <tbody>\n",
       "    <tr>\n",
       "      <th>0</th>\n",
       "      <td>21005.0</td>\n",
       "      <td>2.0</td>\n",
       "      <td>114.571429</td>\n",
       "      <td>47.166667</td>\n",
       "      <td>804.428571</td>\n",
       "    </tr>\n",
       "    <tr>\n",
       "      <th>1</th>\n",
       "      <td>21006.0</td>\n",
       "      <td>2.0</td>\n",
       "      <td>189.142857</td>\n",
       "      <td>8.714286</td>\n",
       "      <td>761.857143</td>\n",
       "    </tr>\n",
       "    <tr>\n",
       "      <th>2</th>\n",
       "      <td>21007.0</td>\n",
       "      <td>2.4</td>\n",
       "      <td>355.285714</td>\n",
       "      <td>34.142857</td>\n",
       "      <td>568.857143</td>\n",
       "    </tr>\n",
       "    <tr>\n",
       "      <th>3</th>\n",
       "      <td>21008.0</td>\n",
       "      <td>6.2</td>\n",
       "      <td>147.714286</td>\n",
       "      <td>40.400000</td>\n",
       "      <td>779.000000</td>\n",
       "    </tr>\n",
       "    <tr>\n",
       "      <th>4</th>\n",
       "      <td>21009.0</td>\n",
       "      <td>1.0</td>\n",
       "      <td>333.571429</td>\n",
       "      <td>44.428571</td>\n",
       "      <td>581.714286</td>\n",
       "    </tr>\n",
       "  </tbody>\n",
       "</table>\n",
       "</div>"
      ],
      "text/plain": [
       "      SEQN  intense       light   moderate   sedentary\n",
       "0  21005.0      2.0  114.571429  47.166667  804.428571\n",
       "1  21006.0      2.0  189.142857   8.714286  761.857143\n",
       "2  21007.0      2.4  355.285714  34.142857  568.857143\n",
       "3  21008.0      6.2  147.714286  40.400000  779.000000\n",
       "4  21009.0      1.0  333.571429  44.428571  581.714286"
      ]
     },
     "execution_count": 82,
     "metadata": {},
     "output_type": "execute_result"
    }
   ],
   "source": [
    "df.head()"
   ]
  },
  {
   "cell_type": "code",
   "execution_count": 153,
   "metadata": {},
   "outputs": [
    {
     "data": {
      "text/html": [
       "<div>\n",
       "<style scoped>\n",
       "    .dataframe tbody tr th:only-of-type {\n",
       "        vertical-align: middle;\n",
       "    }\n",
       "\n",
       "    .dataframe tbody tr th {\n",
       "        vertical-align: top;\n",
       "    }\n",
       "\n",
       "    .dataframe thead th {\n",
       "        text-align: right;\n",
       "    }\n",
       "</style>\n",
       "<table border=\"1\" class=\"dataframe\">\n",
       "  <thead>\n",
       "    <tr style=\"text-align: right;\">\n",
       "      <th></th>\n",
       "      <th>SEQN</th>\n",
       "      <th>intense</th>\n",
       "      <th>light</th>\n",
       "      <th>moderate</th>\n",
       "      <th>sedentary</th>\n",
       "      <th>active</th>\n",
       "    </tr>\n",
       "  </thead>\n",
       "  <tbody>\n",
       "    <tr>\n",
       "      <th>0</th>\n",
       "      <td>21005.0</td>\n",
       "      <td>2.0</td>\n",
       "      <td>114.571429</td>\n",
       "      <td>47.166667</td>\n",
       "      <td>804.428571</td>\n",
       "      <td>1</td>\n",
       "    </tr>\n",
       "    <tr>\n",
       "      <th>1</th>\n",
       "      <td>21006.0</td>\n",
       "      <td>2.0</td>\n",
       "      <td>189.142857</td>\n",
       "      <td>8.714286</td>\n",
       "      <td>761.857143</td>\n",
       "      <td>0</td>\n",
       "    </tr>\n",
       "    <tr>\n",
       "      <th>2</th>\n",
       "      <td>21007.0</td>\n",
       "      <td>2.4</td>\n",
       "      <td>355.285714</td>\n",
       "      <td>34.142857</td>\n",
       "      <td>568.857143</td>\n",
       "      <td>1</td>\n",
       "    </tr>\n",
       "    <tr>\n",
       "      <th>3</th>\n",
       "      <td>21008.0</td>\n",
       "      <td>6.2</td>\n",
       "      <td>147.714286</td>\n",
       "      <td>40.400000</td>\n",
       "      <td>779.000000</td>\n",
       "      <td>1</td>\n",
       "    </tr>\n",
       "    <tr>\n",
       "      <th>4</th>\n",
       "      <td>21009.0</td>\n",
       "      <td>1.0</td>\n",
       "      <td>333.571429</td>\n",
       "      <td>44.428571</td>\n",
       "      <td>581.714286</td>\n",
       "      <td>1</td>\n",
       "    </tr>\n",
       "  </tbody>\n",
       "</table>\n",
       "</div>"
      ],
      "text/plain": [
       "      SEQN  intense       light   moderate   sedentary  active\n",
       "0  21005.0      2.0  114.571429  47.166667  804.428571       1\n",
       "1  21006.0      2.0  189.142857   8.714286  761.857143       0\n",
       "2  21007.0      2.4  355.285714  34.142857  568.857143       1\n",
       "3  21008.0      6.2  147.714286  40.400000  779.000000       1\n",
       "4  21009.0      1.0  333.571429  44.428571  581.714286       1"
      ]
     },
     "execution_count": 153,
     "metadata": {},
     "output_type": "execute_result"
    }
   ],
   "source": [
    "df.head()"
   ]
  },
  {
   "cell_type": "code",
   "execution_count": 116,
   "metadata": {},
   "outputs": [
    {
     "data": {
      "text/html": [
       "<div>\n",
       "<style scoped>\n",
       "    .dataframe tbody tr th:only-of-type {\n",
       "        vertical-align: middle;\n",
       "    }\n",
       "\n",
       "    .dataframe tbody tr th {\n",
       "        vertical-align: top;\n",
       "    }\n",
       "\n",
       "    .dataframe thead th {\n",
       "        text-align: right;\n",
       "    }\n",
       "</style>\n",
       "<table border=\"1\" class=\"dataframe\">\n",
       "  <thead>\n",
       "    <tr style=\"text-align: right;\">\n",
       "      <th></th>\n",
       "      <th>SEQN</th>\n",
       "      <th>intense</th>\n",
       "      <th>light</th>\n",
       "      <th>moderate</th>\n",
       "      <th>sedentary</th>\n",
       "      <th>active</th>\n",
       "    </tr>\n",
       "  </thead>\n",
       "  <tbody>\n",
       "  </tbody>\n",
       "</table>\n",
       "</div>"
      ],
      "text/plain": [
       "Empty DataFrame\n",
       "Columns: [SEQN, intense, light, moderate, sedentary, active]\n",
       "Index: []"
      ]
     },
     "execution_count": 116,
     "metadata": {},
     "output_type": "execute_result"
    }
   ],
   "source": [
    "df[df['light'].isnull()]"
   ]
  },
  {
   "cell_type": "code",
   "execution_count": 91,
   "metadata": {},
   "outputs": [],
   "source": [
    "class_healthy = []\n",
    "for index, row in df.iterrows():\n",
    "    if (row['moderate'] + row['intense']*2)*7 >= 150:\n",
    "        class_healthy.append(1)\n",
    "    else:\n",
    "        class_healthy.append(0)\n"
   ]
  },
  {
   "cell_type": "code",
   "execution_count": 92,
   "metadata": {},
   "outputs": [],
   "source": [
    "df['active'] = class_healthy"
   ]
  },
  {
   "cell_type": "code",
   "execution_count": 93,
   "metadata": {},
   "outputs": [
    {
     "data": {
      "text/plain": [
       "0.510435038212816"
      ]
     },
     "execution_count": 93,
     "metadata": {},
     "output_type": "execute_result"
    }
   ],
   "source": [
    "df[df['active'] == 0].shape[0] / 6804"
   ]
  },
  {
   "cell_type": "code",
   "execution_count": 119,
   "metadata": {},
   "outputs": [],
   "source": [
    "df.to_csv('dataset/accelerometer_classified_final.csv')"
   ]
  },
  {
   "cell_type": "code",
   "execution_count": 96,
   "metadata": {},
   "outputs": [],
   "source": [
    "demo.drop(['Unnamed: 0'],axis=1,inplace = True)"
   ]
  },
  {
   "cell_type": "code",
   "execution_count": 97,
   "metadata": {},
   "outputs": [],
   "source": [
    "df1 = pd.merge(df,demo,on='SEQN')"
   ]
  },
  {
   "cell_type": "code",
   "execution_count": 115,
   "metadata": {},
   "outputs": [
    {
     "data": {
      "text/plain": [
       "(3833, 18)"
      ]
     },
     "execution_count": 115,
     "metadata": {},
     "output_type": "execute_result"
    }
   ],
   "source": [
    "df1.shape"
   ]
  },
  {
   "cell_type": "markdown",
   "metadata": {},
   "source": [
    "### Correlation with demographic data"
   ]
  },
  {
   "cell_type": "code",
   "execution_count": 98,
   "metadata": {},
   "outputs": [
    {
     "data": {
      "text/html": [
       "<div>\n",
       "<style scoped>\n",
       "    .dataframe tbody tr th:only-of-type {\n",
       "        vertical-align: middle;\n",
       "    }\n",
       "\n",
       "    .dataframe tbody tr th {\n",
       "        vertical-align: top;\n",
       "    }\n",
       "\n",
       "    .dataframe thead th {\n",
       "        text-align: right;\n",
       "    }\n",
       "</style>\n",
       "<table border=\"1\" class=\"dataframe\">\n",
       "  <thead>\n",
       "    <tr style=\"text-align: right;\">\n",
       "      <th></th>\n",
       "      <th>SEQN</th>\n",
       "      <th>intense</th>\n",
       "      <th>light</th>\n",
       "      <th>moderate</th>\n",
       "      <th>sedentary</th>\n",
       "      <th>active</th>\n",
       "      <th>RIDAGEYR</th>\n",
       "      <th>DMDEDUC2</th>\n",
       "      <th>DMDHHSIZ</th>\n",
       "      <th>INDFMPIR</th>\n",
       "      <th>gender_1.0</th>\n",
       "      <th>gender_2.0</th>\n",
       "      <th>marital_1.0</th>\n",
       "      <th>marital_2.0</th>\n",
       "      <th>marital_3.0</th>\n",
       "      <th>marital_4.0</th>\n",
       "      <th>marital_5.0</th>\n",
       "      <th>marital_6.0</th>\n",
       "    </tr>\n",
       "  </thead>\n",
       "  <tbody>\n",
       "    <tr>\n",
       "      <th>active</th>\n",
       "      <td>0.012894</td>\n",
       "      <td>0.344645</td>\n",
       "      <td>0.274754</td>\n",
       "      <td>0.75477</td>\n",
       "      <td>-0.348798</td>\n",
       "      <td>1.0</td>\n",
       "      <td>-0.315571</td>\n",
       "      <td>0.118375</td>\n",
       "      <td>0.136775</td>\n",
       "      <td>0.099811</td>\n",
       "      <td>0.237975</td>\n",
       "      <td>-0.237975</td>\n",
       "      <td>0.001756</td>\n",
       "      <td>-0.169256</td>\n",
       "      <td>-0.041641</td>\n",
       "      <td>-0.023637</td>\n",
       "      <td>0.163036</td>\n",
       "      <td>0.025843</td>\n",
       "    </tr>\n",
       "  </tbody>\n",
       "</table>\n",
       "</div>"
      ],
      "text/plain": [
       "            SEQN   intense     light  moderate  sedentary  active  RIDAGEYR  \\\n",
       "active  0.012894  0.344645  0.274754   0.75477  -0.348798     1.0 -0.315571   \n",
       "\n",
       "        DMDEDUC2  DMDHHSIZ  INDFMPIR  gender_1.0  gender_2.0  marital_1.0  \\\n",
       "active  0.118375  0.136775  0.099811    0.237975   -0.237975     0.001756   \n",
       "\n",
       "        marital_2.0  marital_3.0  marital_4.0  marital_5.0  marital_6.0  \n",
       "active    -0.169256    -0.041641    -0.023637     0.163036     0.025843  "
      ]
     },
     "execution_count": 98,
     "metadata": {},
     "output_type": "execute_result"
    }
   ],
   "source": [
    "df1.corr().iloc[[5]]"
   ]
  },
  {
   "cell_type": "markdown",
   "metadata": {},
   "source": [
    "Education level has a positive correlation but it is decreasing the dataset size considerably ...3000"
   ]
  },
  {
   "cell_type": "markdown",
   "metadata": {},
   "source": [
    "### Correlation with alcohol consumption per year"
   ]
  },
  {
   "cell_type": "code",
   "execution_count": 99,
   "metadata": {},
   "outputs": [],
   "source": [
    "alq = pd.read_csv('dataset/alq.csv')"
   ]
  },
  {
   "cell_type": "code",
   "execution_count": 100,
   "metadata": {},
   "outputs": [],
   "source": [
    "df2 = pd.merge(df,alq,on='SEQN')"
   ]
  },
  {
   "cell_type": "code",
   "execution_count": 156,
   "metadata": {},
   "outputs": [
    {
     "data": {
      "text/html": [
       "<div>\n",
       "<style scoped>\n",
       "    .dataframe tbody tr th:only-of-type {\n",
       "        vertical-align: middle;\n",
       "    }\n",
       "\n",
       "    .dataframe tbody tr th {\n",
       "        vertical-align: top;\n",
       "    }\n",
       "\n",
       "    .dataframe thead th {\n",
       "        text-align: right;\n",
       "    }\n",
       "</style>\n",
       "<table border=\"1\" class=\"dataframe\">\n",
       "  <thead>\n",
       "    <tr style=\"text-align: right;\">\n",
       "      <th></th>\n",
       "      <th>SEQN</th>\n",
       "      <th>intense</th>\n",
       "      <th>light</th>\n",
       "      <th>moderate</th>\n",
       "      <th>sedentary</th>\n",
       "      <th>active</th>\n",
       "      <th>Unnamed: 0</th>\n",
       "      <th>ALQ_Year</th>\n",
       "    </tr>\n",
       "  </thead>\n",
       "  <tbody>\n",
       "    <tr>\n",
       "      <th>active</th>\n",
       "      <td>0.01962</td>\n",
       "      <td>0.342</td>\n",
       "      <td>0.259868</td>\n",
       "      <td>0.731416</td>\n",
       "      <td>-0.339018</td>\n",
       "      <td>1.0</td>\n",
       "      <td>0.019909</td>\n",
       "      <td>0.019569</td>\n",
       "    </tr>\n",
       "  </tbody>\n",
       "</table>\n",
       "</div>"
      ],
      "text/plain": [
       "           SEQN  intense     light  moderate  sedentary  active  Unnamed: 0  \\\n",
       "active  0.01962    0.342  0.259868  0.731416  -0.339018     1.0    0.019909   \n",
       "\n",
       "        ALQ_Year  \n",
       "active  0.019569  "
      ]
     },
     "execution_count": 156,
     "metadata": {},
     "output_type": "execute_result"
    }
   ],
   "source": [
    "df2.corr().iloc[[5]]"
   ]
  },
  {
   "cell_type": "code",
   "execution_count": 102,
   "metadata": {},
   "outputs": [],
   "source": [
    "df2[['ALQ_Year']] = df2[['ALQ_Year']]/52"
   ]
  },
  {
   "cell_type": "code",
   "execution_count": 103,
   "metadata": {},
   "outputs": [
    {
     "data": {
      "text/html": [
       "<div>\n",
       "<style scoped>\n",
       "    .dataframe tbody tr th:only-of-type {\n",
       "        vertical-align: middle;\n",
       "    }\n",
       "\n",
       "    .dataframe tbody tr th {\n",
       "        vertical-align: top;\n",
       "    }\n",
       "\n",
       "    .dataframe thead th {\n",
       "        text-align: right;\n",
       "    }\n",
       "</style>\n",
       "<table border=\"1\" class=\"dataframe\">\n",
       "  <thead>\n",
       "    <tr style=\"text-align: right;\">\n",
       "      <th></th>\n",
       "      <th>SEQN</th>\n",
       "      <th>intense</th>\n",
       "      <th>light</th>\n",
       "      <th>moderate</th>\n",
       "      <th>sedentary</th>\n",
       "      <th>active</th>\n",
       "      <th>Unnamed: 0</th>\n",
       "      <th>ALQ_Year</th>\n",
       "    </tr>\n",
       "  </thead>\n",
       "  <tbody>\n",
       "    <tr>\n",
       "      <th>active</th>\n",
       "      <td>0.01962</td>\n",
       "      <td>0.342</td>\n",
       "      <td>0.259868</td>\n",
       "      <td>0.731416</td>\n",
       "      <td>-0.339018</td>\n",
       "      <td>1.0</td>\n",
       "      <td>0.019909</td>\n",
       "      <td>0.019569</td>\n",
       "    </tr>\n",
       "  </tbody>\n",
       "</table>\n",
       "</div>"
      ],
      "text/plain": [
       "           SEQN  intense     light  moderate  sedentary  active  Unnamed: 0  \\\n",
       "active  0.01962    0.342  0.259868  0.731416  -0.339018     1.0    0.019909   \n",
       "\n",
       "        ALQ_Year  \n",
       "active  0.019569  "
      ]
     },
     "execution_count": 103,
     "metadata": {},
     "output_type": "execute_result"
    }
   ],
   "source": [
    "df2.corr().iloc[[5]]"
   ]
  },
  {
   "cell_type": "markdown",
   "metadata": {},
   "source": [
    "### Correlation with weight and body measurement:"
   ]
  },
  {
   "cell_type": "code",
   "execution_count": 104,
   "metadata": {},
   "outputs": [],
   "source": [
    "bmx = pd.read_csv('dataset/bmx.csv')"
   ]
  },
  {
   "cell_type": "code",
   "execution_count": 105,
   "metadata": {},
   "outputs": [
    {
     "data": {
      "text/html": [
       "<div>\n",
       "<style scoped>\n",
       "    .dataframe tbody tr th:only-of-type {\n",
       "        vertical-align: middle;\n",
       "    }\n",
       "\n",
       "    .dataframe tbody tr th {\n",
       "        vertical-align: top;\n",
       "    }\n",
       "\n",
       "    .dataframe thead th {\n",
       "        text-align: right;\n",
       "    }\n",
       "</style>\n",
       "<table border=\"1\" class=\"dataframe\">\n",
       "  <thead>\n",
       "    <tr style=\"text-align: right;\">\n",
       "      <th></th>\n",
       "      <th>SEQN</th>\n",
       "      <th>intense</th>\n",
       "      <th>light</th>\n",
       "      <th>moderate</th>\n",
       "      <th>sedentary</th>\n",
       "      <th>active</th>\n",
       "      <th>Unnamed: 0</th>\n",
       "      <th>BMXWT</th>\n",
       "      <th>BMXBMI</th>\n",
       "    </tr>\n",
       "  </thead>\n",
       "  <tbody>\n",
       "    <tr>\n",
       "      <th>active</th>\n",
       "      <td>0.003573</td>\n",
       "      <td>0.422852</td>\n",
       "      <td>0.278784</td>\n",
       "      <td>0.728615</td>\n",
       "      <td>-0.379238</td>\n",
       "      <td>1.0</td>\n",
       "      <td>0.003594</td>\n",
       "      <td>-0.303642</td>\n",
       "      <td>-0.333257</td>\n",
       "    </tr>\n",
       "  </tbody>\n",
       "</table>\n",
       "</div>"
      ],
      "text/plain": [
       "            SEQN   intense     light  moderate  sedentary  active  Unnamed: 0  \\\n",
       "active  0.003573  0.422852  0.278784  0.728615  -0.379238     1.0    0.003594   \n",
       "\n",
       "           BMXWT    BMXBMI  \n",
       "active -0.303642 -0.333257  "
      ]
     },
     "execution_count": 105,
     "metadata": {},
     "output_type": "execute_result"
    }
   ],
   "source": [
    "df3 = pd.merge(df,bmx,on='SEQN')\n",
    "df3.corr().iloc[[5]]"
   ]
  },
  {
   "cell_type": "code",
   "execution_count": 113,
   "metadata": {},
   "outputs": [
    {
     "data": {
      "text/plain": [
       "(6735, 9)"
      ]
     },
     "execution_count": 113,
     "metadata": {},
     "output_type": "execute_result"
    }
   ],
   "source": [
    "df3.shape"
   ]
  },
  {
   "cell_type": "markdown",
   "metadata": {},
   "source": [
    "### Correlation with Dietary Supplement Use:"
   ]
  },
  {
   "cell_type": "code",
   "execution_count": 154,
   "metadata": {},
   "outputs": [
    {
     "data": {
      "text/html": [
       "<div>\n",
       "<style scoped>\n",
       "    .dataframe tbody tr th:only-of-type {\n",
       "        vertical-align: middle;\n",
       "    }\n",
       "\n",
       "    .dataframe tbody tr th {\n",
       "        vertical-align: top;\n",
       "    }\n",
       "\n",
       "    .dataframe thead th {\n",
       "        text-align: right;\n",
       "    }\n",
       "</style>\n",
       "<table border=\"1\" class=\"dataframe\">\n",
       "  <thead>\n",
       "    <tr style=\"text-align: right;\">\n",
       "      <th></th>\n",
       "      <th>SEQN</th>\n",
       "      <th>intense</th>\n",
       "      <th>light</th>\n",
       "      <th>moderate</th>\n",
       "      <th>sedentary</th>\n",
       "      <th>active</th>\n",
       "      <th>Unnamed: 0</th>\n",
       "      <th>DSD010</th>\n",
       "      <th>DSD010AN</th>\n",
       "    </tr>\n",
       "  </thead>\n",
       "  <tbody>\n",
       "    <tr>\n",
       "      <th>active</th>\n",
       "      <td>0.003579</td>\n",
       "      <td>0.422643</td>\n",
       "      <td>0.280417</td>\n",
       "      <td>0.729257</td>\n",
       "      <td>-0.380834</td>\n",
       "      <td>1.0</td>\n",
       "      <td>0.003579</td>\n",
       "      <td>-0.159726</td>\n",
       "      <td>-0.102105</td>\n",
       "    </tr>\n",
       "  </tbody>\n",
       "</table>\n",
       "</div>"
      ],
      "text/plain": [
       "            SEQN   intense     light  moderate  sedentary  active  Unnamed: 0  \\\n",
       "active  0.003579  0.422643  0.280417  0.729257  -0.380834     1.0    0.003579   \n",
       "\n",
       "          DSD010  DSD010AN  \n",
       "active -0.159726 -0.102105  "
      ]
     },
     "execution_count": 154,
     "metadata": {},
     "output_type": "execute_result"
    }
   ],
   "source": [
    "dsq1 = pd.read_csv('dataset/DSQ1.csv')\n",
    "df4 = pd.merge(df,dsq1,on='SEQN')\n",
    "df4.corr().iloc[[5]]"
   ]
  },
  {
   "cell_type": "code",
   "execution_count": 75,
   "metadata": {},
   "outputs": [
    {
     "data": {
      "text/plain": [
       "(6797, 9)"
      ]
     },
     "execution_count": 75,
     "metadata": {},
     "output_type": "execute_result"
    }
   ],
   "source": [
    "df4.shape"
   ]
  },
  {
   "cell_type": "markdown",
   "metadata": {},
   "source": [
    "### Correlation with drug use"
   ]
  },
  {
   "cell_type": "code",
   "execution_count": 131,
   "metadata": {},
   "outputs": [
    {
     "data": {
      "text/html": [
       "<div>\n",
       "<style scoped>\n",
       "    .dataframe tbody tr th:only-of-type {\n",
       "        vertical-align: middle;\n",
       "    }\n",
       "\n",
       "    .dataframe tbody tr th {\n",
       "        vertical-align: top;\n",
       "    }\n",
       "\n",
       "    .dataframe thead th {\n",
       "        text-align: right;\n",
       "    }\n",
       "</style>\n",
       "<table border=\"1\" class=\"dataframe\">\n",
       "  <thead>\n",
       "    <tr style=\"text-align: right;\">\n",
       "      <th></th>\n",
       "      <th>SEQN</th>\n",
       "      <th>intense</th>\n",
       "      <th>light</th>\n",
       "      <th>moderate</th>\n",
       "      <th>sedentary</th>\n",
       "      <th>active</th>\n",
       "      <th>Unnamed: 0</th>\n",
       "      <th>DUQ100</th>\n",
       "    </tr>\n",
       "  </thead>\n",
       "  <tbody>\n",
       "    <tr>\n",
       "      <th>active</th>\n",
       "      <td>0.01446</td>\n",
       "      <td>0.326843</td>\n",
       "      <td>0.277718</td>\n",
       "      <td>0.708503</td>\n",
       "      <td>-0.358363</td>\n",
       "      <td>1.0</td>\n",
       "      <td>0.014891</td>\n",
       "      <td>0.04096</td>\n",
       "    </tr>\n",
       "  </tbody>\n",
       "</table>\n",
       "</div>"
      ],
      "text/plain": [
       "           SEQN   intense     light  moderate  sedentary  active  Unnamed: 0  \\\n",
       "active  0.01446  0.326843  0.277718  0.708503  -0.358363     1.0    0.014891   \n",
       "\n",
       "         DUQ100  \n",
       "active  0.04096  "
      ]
     },
     "execution_count": 131,
     "metadata": {},
     "output_type": "execute_result"
    }
   ],
   "source": [
    "DUQ = pd.read_csv('dataset/DUQ.csv')\n",
    "df5 = pd.merge(df,DUQ,on='SEQN')\n",
    "df5.corr().iloc[[5]]"
   ]
  },
  {
   "cell_type": "code",
   "execution_count": 132,
   "metadata": {},
   "outputs": [
    {
     "data": {
      "text/plain": [
       "(2309, 8)"
      ]
     },
     "execution_count": 132,
     "metadata": {},
     "output_type": "execute_result"
    }
   ],
   "source": [
    "df5.shape"
   ]
  },
  {
   "cell_type": "markdown",
   "metadata": {},
   "source": [
    "### correlation with household smoking:"
   ]
  },
  {
   "cell_type": "code",
   "execution_count": 136,
   "metadata": {},
   "outputs": [
    {
     "data": {
      "text/html": [
       "<div>\n",
       "<style scoped>\n",
       "    .dataframe tbody tr th:only-of-type {\n",
       "        vertical-align: middle;\n",
       "    }\n",
       "\n",
       "    .dataframe tbody tr th {\n",
       "        vertical-align: top;\n",
       "    }\n",
       "\n",
       "    .dataframe thead th {\n",
       "        text-align: right;\n",
       "    }\n",
       "</style>\n",
       "<table border=\"1\" class=\"dataframe\">\n",
       "  <thead>\n",
       "    <tr style=\"text-align: right;\">\n",
       "      <th></th>\n",
       "      <th>SEQN</th>\n",
       "      <th>intense</th>\n",
       "      <th>light</th>\n",
       "      <th>moderate</th>\n",
       "      <th>sedentary</th>\n",
       "      <th>active</th>\n",
       "      <th>Unnamed: 0</th>\n",
       "      <th>SMD415</th>\n",
       "    </tr>\n",
       "  </thead>\n",
       "  <tbody>\n",
       "    <tr>\n",
       "      <th>active</th>\n",
       "      <td>0.003713</td>\n",
       "      <td>0.422464</td>\n",
       "      <td>0.281365</td>\n",
       "      <td>0.729408</td>\n",
       "      <td>-0.3813</td>\n",
       "      <td>1.0</td>\n",
       "      <td>0.003713</td>\n",
       "      <td>-0.027855</td>\n",
       "    </tr>\n",
       "  </tbody>\n",
       "</table>\n",
       "</div>"
      ],
      "text/plain": [
       "            SEQN   intense     light  moderate  sedentary  active  Unnamed: 0  \\\n",
       "active  0.003713  0.422464  0.281365  0.729408    -0.3813     1.0    0.003713   \n",
       "\n",
       "          SMD415  \n",
       "active -0.027855  "
      ]
     },
     "execution_count": 136,
     "metadata": {},
     "output_type": "execute_result"
    }
   ],
   "source": [
    "FAMSMQ = pd.read_csv('dataset/FAMSMQ.csv')\n",
    "df6 = pd.merge(df,FAMSMQ,on='SEQN')\n",
    "df6.corr().iloc[[5]]"
   ]
  },
  {
   "cell_type": "markdown",
   "metadata": {},
   "source": [
    "### correlation with general health condition:"
   ]
  },
  {
   "cell_type": "code",
   "execution_count": 152,
   "metadata": {},
   "outputs": [
    {
     "data": {
      "text/html": [
       "<div>\n",
       "<style scoped>\n",
       "    .dataframe tbody tr th:only-of-type {\n",
       "        vertical-align: middle;\n",
       "    }\n",
       "\n",
       "    .dataframe tbody tr th {\n",
       "        vertical-align: top;\n",
       "    }\n",
       "\n",
       "    .dataframe thead th {\n",
       "        text-align: right;\n",
       "    }\n",
       "</style>\n",
       "<table border=\"1\" class=\"dataframe\">\n",
       "  <thead>\n",
       "    <tr style=\"text-align: right;\">\n",
       "      <th></th>\n",
       "      <th>HUQ010</th>\n",
       "    </tr>\n",
       "  </thead>\n",
       "  <tbody>\n",
       "    <tr>\n",
       "      <th>active</th>\n",
       "      <td>-0.250558</td>\n",
       "    </tr>\n",
       "  </tbody>\n",
       "</table>\n",
       "</div>"
      ],
      "text/plain": [
       "          HUQ010\n",
       "active -0.250558"
      ]
     },
     "execution_count": 152,
     "metadata": {},
     "output_type": "execute_result"
    }
   ],
   "source": [
    "HUQ = pd.read_csv('dataset/HUQ.csv')\n",
    "df7 = pd.merge(df,HUQ,on='SEQN')\n",
    "df7.corr().iloc[[5]][['HUQ010']]"
   ]
  },
  {
   "cell_type": "markdown",
   "metadata": {},
   "source": [
    "### Correlation with Immunization "
   ]
  },
  {
   "cell_type": "code",
   "execution_count": 149,
   "metadata": {},
   "outputs": [
    {
     "data": {
      "text/html": [
       "<div>\n",
       "<style scoped>\n",
       "    .dataframe tbody tr th:only-of-type {\n",
       "        vertical-align: middle;\n",
       "    }\n",
       "\n",
       "    .dataframe tbody tr th {\n",
       "        vertical-align: top;\n",
       "    }\n",
       "\n",
       "    .dataframe thead th {\n",
       "        text-align: right;\n",
       "    }\n",
       "</style>\n",
       "<table border=\"1\" class=\"dataframe\">\n",
       "  <thead>\n",
       "    <tr style=\"text-align: right;\">\n",
       "      <th></th>\n",
       "      <th>IMD010</th>\n",
       "      <th>IMQ020</th>\n",
       "    </tr>\n",
       "  </thead>\n",
       "  <tbody>\n",
       "    <tr>\n",
       "      <th>active</th>\n",
       "      <td>-0.153698</td>\n",
       "      <td>-0.360137</td>\n",
       "    </tr>\n",
       "  </tbody>\n",
       "</table>\n",
       "</div>"
      ],
      "text/plain": [
       "          IMD010    IMQ020\n",
       "active -0.153698 -0.360137"
      ]
     },
     "execution_count": 149,
     "metadata": {},
     "output_type": "execute_result"
    }
   ],
   "source": [
    "imc = pd.read_csv('dataset/imc.csv')\n",
    "df8 = pd.merge(df,imc,on='SEQN')\n",
    "df8.corr().iloc[[5]][['IMD010','IMQ020']]"
   ]
  },
  {
   "cell_type": "code",
   "execution_count": 140,
   "metadata": {},
   "outputs": [
    {
     "data": {
      "text/plain": [
       "(6007, 9)"
      ]
     },
     "execution_count": 140,
     "metadata": {},
     "output_type": "execute_result"
    }
   ],
   "source": [
    "df8.shape"
   ]
  },
  {
   "cell_type": "markdown",
   "metadata": {},
   "source": [
    "### Correlation with Sedentary activities:"
   ]
  },
  {
   "cell_type": "code",
   "execution_count": 148,
   "metadata": {},
   "outputs": [
    {
     "data": {
      "text/html": [
       "<div>\n",
       "<style scoped>\n",
       "    .dataframe tbody tr th:only-of-type {\n",
       "        vertical-align: middle;\n",
       "    }\n",
       "\n",
       "    .dataframe tbody tr th {\n",
       "        vertical-align: top;\n",
       "    }\n",
       "\n",
       "    .dataframe thead th {\n",
       "        text-align: right;\n",
       "    }\n",
       "</style>\n",
       "<table border=\"1\" class=\"dataframe\">\n",
       "  <thead>\n",
       "    <tr style=\"text-align: right;\">\n",
       "      <th></th>\n",
       "      <th>PAD590</th>\n",
       "      <th>PAD600</th>\n",
       "    </tr>\n",
       "  </thead>\n",
       "  <tbody>\n",
       "    <tr>\n",
       "      <th>active</th>\n",
       "      <td>-0.104852</td>\n",
       "      <td>0.140144</td>\n",
       "    </tr>\n",
       "  </tbody>\n",
       "</table>\n",
       "</div>"
      ],
      "text/plain": [
       "          PAD590    PAD600\n",
       "active -0.104852  0.140144"
      ]
     },
     "execution_count": 148,
     "metadata": {},
     "output_type": "execute_result"
    }
   ],
   "source": [
    "PAQ = pd.read_csv('dataset/PAQ.csv')\n",
    "df9 = pd.merge(df,PAQ,on='SEQN')\n",
    "df9.corr().iloc[[5]][['PAD590','PAD600']]"
   ]
  },
  {
   "cell_type": "code",
   "execution_count": 142,
   "metadata": {},
   "outputs": [
    {
     "data": {
      "text/plain": [
       "(6741, 9)"
      ]
     },
     "execution_count": 142,
     "metadata": {},
     "output_type": "execute_result"
    }
   ],
   "source": [
    "df9.shape"
   ]
  },
  {
   "cell_type": "markdown",
   "metadata": {},
   "source": [
    "### Correlation with drug(medecine) use (Analgesic Pain Relievers)"
   ]
  },
  {
   "cell_type": "code",
   "execution_count": 144,
   "metadata": {},
   "outputs": [
    {
     "data": {
      "text/html": [
       "<div>\n",
       "<style scoped>\n",
       "    .dataframe tbody tr th:only-of-type {\n",
       "        vertical-align: middle;\n",
       "    }\n",
       "\n",
       "    .dataframe tbody tr th {\n",
       "        vertical-align: top;\n",
       "    }\n",
       "\n",
       "    .dataframe thead th {\n",
       "        text-align: right;\n",
       "    }\n",
       "</style>\n",
       "<table border=\"1\" class=\"dataframe\">\n",
       "  <thead>\n",
       "    <tr style=\"text-align: right;\">\n",
       "      <th></th>\n",
       "      <th>RXD300</th>\n",
       "    </tr>\n",
       "  </thead>\n",
       "  <tbody>\n",
       "    <tr>\n",
       "      <th>active</th>\n",
       "      <td>-0.140367</td>\n",
       "    </tr>\n",
       "  </tbody>\n",
       "</table>\n",
       "</div>"
      ],
      "text/plain": [
       "          RXD300\n",
       "active -0.140367"
      ]
     },
     "execution_count": 144,
     "metadata": {},
     "output_type": "execute_result"
    }
   ],
   "source": [
    "RXQANA = pd.read_csv('dataset/RXQANA.csv')\n",
    "df10 = pd.merge(df,RXQANA,on='SEQN')\n",
    "df10.corr().iloc[[5]][['RXD300']]"
   ]
  },
  {
   "cell_type": "markdown",
   "metadata": {},
   "source": [
    "### Correlation with smoking:"
   ]
  },
  {
   "cell_type": "code",
   "execution_count": 147,
   "metadata": {},
   "outputs": [
    {
     "data": {
      "text/html": [
       "<div>\n",
       "<style scoped>\n",
       "    .dataframe tbody tr th:only-of-type {\n",
       "        vertical-align: middle;\n",
       "    }\n",
       "\n",
       "    .dataframe tbody tr th {\n",
       "        vertical-align: top;\n",
       "    }\n",
       "\n",
       "    .dataframe thead th {\n",
       "        text-align: right;\n",
       "    }\n",
       "</style>\n",
       "<table border=\"1\" class=\"dataframe\">\n",
       "  <thead>\n",
       "    <tr style=\"text-align: right;\">\n",
       "      <th></th>\n",
       "      <th>SMQ020</th>\n",
       "    </tr>\n",
       "  </thead>\n",
       "  <tbody>\n",
       "    <tr>\n",
       "      <th>active</th>\n",
       "      <td>-0.057665</td>\n",
       "    </tr>\n",
       "  </tbody>\n",
       "</table>\n",
       "</div>"
      ],
      "text/plain": [
       "          SMQ020\n",
       "active -0.057665"
      ]
     },
     "execution_count": 147,
     "metadata": {},
     "output_type": "execute_result"
    }
   ],
   "source": [
    "SMQ = pd.read_csv('dataset/SMQ.csv')\n",
    "df11 = pd.merge(df,SMQ,on='SEQN')\n",
    "df11.corr().iloc[[5]][['SMQ020']]"
   ]
  },
  {
   "cell_type": "markdown",
   "metadata": {},
   "source": [
    "### Correlation with SSQ.csv"
   ]
  },
  {
   "cell_type": "code",
   "execution_count": 151,
   "metadata": {},
   "outputs": [
    {
     "data": {
      "text/html": [
       "<div>\n",
       "<style scoped>\n",
       "    .dataframe tbody tr th:only-of-type {\n",
       "        vertical-align: middle;\n",
       "    }\n",
       "\n",
       "    .dataframe tbody tr th {\n",
       "        vertical-align: top;\n",
       "    }\n",
       "\n",
       "    .dataframe thead th {\n",
       "        text-align: right;\n",
       "    }\n",
       "</style>\n",
       "<table border=\"1\" class=\"dataframe\">\n",
       "  <thead>\n",
       "    <tr style=\"text-align: right;\">\n",
       "      <th></th>\n",
       "      <th>SSQ061</th>\n",
       "      <th>SSQ011</th>\n",
       "      <th>SSQ051</th>\n",
       "    </tr>\n",
       "  </thead>\n",
       "  <tbody>\n",
       "    <tr>\n",
       "      <th>active</th>\n",
       "      <td>-0.018483</td>\n",
       "      <td>0.039814</td>\n",
       "      <td>0.01693</td>\n",
       "    </tr>\n",
       "  </tbody>\n",
       "</table>\n",
       "</div>"
      ],
      "text/plain": [
       "          SSQ061    SSQ011   SSQ051\n",
       "active -0.018483  0.039814  0.01693"
      ]
     },
     "execution_count": 151,
     "metadata": {},
     "output_type": "execute_result"
    }
   ],
   "source": [
    "SSQ = pd.read_csv('dataset/SSQ.csv')\n",
    "df12 = pd.merge(df,SSQ,on='SEQN')\n",
    "df12.corr().iloc[[5]][['SSQ061','SSQ011','SSQ051']]"
   ]
  },
  {
   "cell_type": "code",
   "execution_count": null,
   "metadata": {},
   "outputs": [],
   "source": []
  }
 ],
 "metadata": {
  "kernelspec": {
   "display_name": "Python 3",
   "language": "python",
   "name": "python3"
  },
  "language_info": {
   "codemirror_mode": {
    "name": "ipython",
    "version": 3
   },
   "file_extension": ".py",
   "mimetype": "text/x-python",
   "name": "python",
   "nbconvert_exporter": "python",
   "pygments_lexer": "ipython3",
   "version": "3.7.3"
  }
 },
 "nbformat": 4,
 "nbformat_minor": 2
}
